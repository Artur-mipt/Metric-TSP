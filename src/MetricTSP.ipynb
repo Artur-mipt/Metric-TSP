{
 "cells": [
  {
   "cell_type": "markdown",
   "metadata": {},
   "source": [
    "## Тестирование работы алгоритма, дающего 1.5-приближение."
   ]
  },
  {
   "cell_type": "code",
   "execution_count": 10,
   "metadata": {},
   "outputs": [],
   "source": [
    "import numpy as np\n",
    "import itertools\n",
    "import scipy.stats as sps\n",
    "from tqdm import tqdm_notebook\n",
    "import matplotlib.pyplot as plt\n",
    "import timeit\n",
    "import time\n",
    "\n",
    "from MetricTSP import MetricTSP"
   ]
  },
  {
   "cell_type": "markdown",
   "metadata": {},
   "source": [
    "### 1. Решение перебором"
   ]
  },
  {
   "cell_type": "code",
   "execution_count": 38,
   "metadata": {},
   "outputs": [],
   "source": [
    "def brute_force(graph):\n",
    "    V = len(graph)\n",
    "    ans = 10**3\n",
    "    for perm in itertools.permutations(list(range(V-1))):\n",
    "        permutation = np.concatenate(([V-1],\n",
    "                                      np.array(perm),\n",
    "                                      [V-1]))\n",
    "        cur = permutation[0]\n",
    "        path = 0\n",
    "        for v in permutation[1:]:\n",
    "            path += graph[cur][v]\n",
    "            cur = v\n",
    "        ans = min(ans, path)\n",
    "    return ans"
   ]
  },
  {
   "cell_type": "markdown",
   "metadata": {},
   "source": [
    "### 2. Генерация случайного графа"
   ]
  },
  {
   "cell_type": "code",
   "execution_count": 39,
   "metadata": {},
   "outputs": [],
   "source": [
    "def is_metric(graph):\n",
    "    v = len(graph)\n",
    "    for i in range(v):\n",
    "        for j in range(v):\n",
    "            for u in range(v):\n",
    "                if graph[i, u] + graph[u, j] < graph[i, j]:\n",
    "                    return False\n",
    "    return True\n",
    "    \n",
    "\n",
    "def make_metric(graph):\n",
    "    v = len(graph)\n",
    "    for i in range(v):\n",
    "        for j in range(v):\n",
    "            for u in range(v):\n",
    "                if graph[i, u] + graph[u, j] < graph[i, j]:\n",
    "                    graph[i, j] = graph[i, u] + graph[u, j]\n",
    "                    graph[j, i] = graph[i, j]\n",
    "\n",
    "\n",
    "def generate_graph(v):\n",
    "    g = sps.randint.rvs(1, 50, size=(v, v))\n",
    "    for i in range(v):\n",
    "        for j in range(v):\n",
    "            if i > j:\n",
    "                g[i, j] = g[j, i]\n",
    "    while (is_metric(g) == False):\n",
    "        make_metric(g)\n",
    "    return g"
   ]
  },
  {
   "cell_type": "markdown",
   "metadata": {},
   "source": [
    "### 3. Сравнение алгоритмов"
   ]
  },
  {
   "cell_type": "code",
   "execution_count": 54,
   "metadata": {},
   "outputs": [
    {
     "data": {
      "application/vnd.jupyter.widget-view+json": {
       "model_id": "b7b46322afa442369c583940a7bb6c7e",
       "version_major": 2,
       "version_minor": 0
      },
      "text/plain": [
       "HBox(children=(IntProgress(value=0, max=9), HTML(value='')))"
      ]
     },
     "metadata": {},
     "output_type": "display_data"
    },
    {
     "name": "stdout",
     "output_type": "stream",
     "text": [
      "Кол-во вершин: 3\n",
      "[[15 15 19]\n",
      " [15  8  4]\n",
      " [19  4  8]]\n",
      "mst:  [(0, 1), (1, 2)]\n",
      "min_perfect_matching:  [(0, 1)]\n",
      "eul_cycle:  [0, 2, 1, 0]\n",
      "ham_cycle:  [0, 2, 1, 0]\n",
      "\n",
      "Кол-во вершин: 4\n",
      "[[30 44 21 33]\n",
      " [44  1 31 19]\n",
      " [21 31 20 12]\n",
      " [33 19 12  4]]\n",
      "mst:  [(0, 2), (2, 3), (3, 1)]\n",
      "min_perfect_matching:  [(0, 1)]\n",
      "eul_cycle:  [0, 2, 3, 1, 0]\n",
      "ham_cycle:  [0, 2, 3, 1, 0]\n",
      "\n",
      "Кол-во вершин: 5\n",
      "[[ 1 10 34  7 10]\n",
      " [10  4 26  5  2]\n",
      " [34 26  1 27 24]\n",
      " [ 7  5 27  6  3]\n",
      " [10  2 24  3  4]]\n",
      "mst:  [(0, 3), (3, 4), (4, 1), (4, 2)]\n",
      "min_perfect_matching:  [(0, 1), (2, 3)]\n",
      "eul_cycle:  [4, 0, 3, 2, 4, 1, 0]\n",
      "ham_cycle:  [4, 0, 3, 2, 1, 4]\n",
      "\n",
      "Кол-во вершин: 6\n",
      "[[26 14 23 21 13 31]\n",
      " [14  2  9  9  1 26]\n",
      " [23  9 18 12 10 17]\n",
      " [21  9 12 16  8 23]\n",
      " [13  1 10  8  2 25]\n",
      " [31 26 17 23 25 22]]\n",
      "mst:  [(0, 4), (4, 1), (4, 3), (1, 2), (2, 5)]\n",
      "min_perfect_matching:  [(1, 3), (0, 2)]\n",
      "eul_cycle:  [5, 1, 0, 4, 3, 1, 2, 0]\n",
      "ham_cycle:  [5, 1, 0, 4, 3, 2, 5]\n",
      "\n",
      "Кол-во вершин: 7\n",
      "[[ 8 19 19 27 30 30 13]\n",
      " [19 28 20 28 30 28 14]\n",
      " [19 20 12 19 14 12  6]\n",
      " [27 28 19  1 11 13 14]\n",
      " [30 30 14 11  4  2 17]\n",
      " [30 28 12 13  2  4 18]\n",
      " [13 14  6 14 17 18 12]]\n",
      "mst:  [(0, 6), (6, 2), (2, 5), (5, 4), (4, 3), (6, 1)]\n",
      "min_perfect_matching:  [(0, 1), (2, 3)]\n",
      "eul_cycle:  [2, 5, 4, 3, 2, 0, 6, 1, 0]\n",
      "ham_cycle:  [2, 5, 4, 3, 0, 6, 1, 2]\n",
      "\n",
      "Кол-во вершин: 8\n",
      "[[ 4 18  2 11 18 18 19 19]\n",
      " [18 10 16 26 20  5  6  6]\n",
      " [ 2 16  4 11 20 20 21 21]\n",
      " [11 26 11 22 14 21 22 22]\n",
      " [18 20 20 14 28 18 19 19]\n",
      " [18  5 20 21 18  2  1  1]\n",
      " [19  6 21 22 19  1  1  2]\n",
      " [19  6 21 22 19  1  2  2]]\n",
      "mst:  [(0, 2), (0, 3), (3, 4), (2, 1), (1, 5), (5, 6), (5, 7)]\n",
      "min_perfect_matching:  [(0, 1), (2, 3)]\n",
      "eul_cycle:  [7, 6, 5, 4, 2, 0, 3, 2, 1, 0]\n",
      "ham_cycle:  [7, 6, 5, 4, 2, 0, 3, 1, 7]\n",
      "\n",
      "Кол-во вершин: 9\n",
      "[[22 33 23 19 11 26 17 16 13]\n",
      " [33 28 14 26 33 29 38 21 34]\n",
      " [23 14 14 12 19 20 29  7 26]\n",
      " [19 26 12 16  8 30 19 19 15]\n",
      " [11 33 19  8 14 22 11 20  7]\n",
      " [26 29 20 30 22  3 31 27 27]\n",
      " [17 38 29 19 11 31  8 31  4]\n",
      " [16 21  7 19 20 27 31  9 27]\n",
      " [13 34 26 15  7 27  4 27  8]]\n",
      "mst:  [(0, 4), (4, 8), (8, 6), (4, 3), (3, 2), (2, 7), (2, 1), (2, 5)]\n",
      "min_perfect_matching:  [(1, 3), (0, 5), (2, 4)]\n",
      "eul_cycle:  [7, 3, 2, 1, 3, 6, 8, 0, 4, 2, 5, 0]\n",
      "ham_cycle:  [7, 3, 2, 1, 6, 8, 0, 4, 5, 7]\n",
      "\n",
      "Кол-во вершин: 10\n",
      "[[14 34 15 24 14 11 16 35  7 18]\n",
      " [34 32 29 24 22 33 33 16 36 35]\n",
      " [15 29  8  9 13  4  9 25  8 20]\n",
      " [24 24  9 18 11 13  9 28 17 24]\n",
      " [14 22 13 11 22 17 20 38 14 13]\n",
      " [11 33  4 13 17  8  5 24  4 16]\n",
      " [16 33  9  9 20  5  1 19  9 21]\n",
      " [35 16 25 28 38 24 19 32 28 40]\n",
      " [ 7 36  8 17 14  4  9 28  8 20]\n",
      " [18 35 20 24 13 16 21 40 20 19]]\n",
      "mst:  [(0, 8), (8, 5), (5, 2), (5, 6), (2, 3), (3, 4), (4, 9), (6, 7), (7, 1)]\n",
      "min_perfect_matching:  [(1, 3), (0, 2)]\n",
      "eul_cycle:  [2, 0, 8, 5, 6, 7, 1, 9, 4, 3, 2, 0]\n",
      "ham_cycle:  [2, 0, 8, 5, 6, 7, 1, 9, 4, 3, 2]\n",
      "\n",
      "Кол-во вершин: 11\n",
      "[[10  5 25 20 16 14 23 13 10 20 13]\n",
      " [ 5 10 20 17 21 19 18  8 15 25  8]\n",
      " [25 20 27 34 30 32 35 28 30 26 28]\n",
      " [20 17 34  8  4  6 22 22 18  8  9]\n",
      " [16 21 30  4  4  2 19 18 14  4 13]\n",
      " [14 19 32  6  2  4 21 20 16  6 15]\n",
      " [23 18 35 22 19 21  5 26 32 15 26]\n",
      " [13  8 28 22 18 20 26 16 20 22 16]\n",
      " [10 15 30 18 14 16 32 20 16 18 23]\n",
      " [20 25 26  8  4  6 15 22 18  8 17]\n",
      " [13  8 28  9 13 15 26 16 23 17 16]]\n",
      "mst:  [(0, 1), (1, 7), (1, 10), (10, 3), (3, 4), (4, 5), (4, 9), (0, 8), (9, 6), (1, 2)]\n",
      "min_perfect_matching:  [(1, 2), (0, 3), (4, 5)]\n",
      "eul_cycle:  [6, 9, 4, 5, 4, 7, 8, 0, 1, 2, 1, 10, 3, 0]\n",
      "ham_cycle:  [6, 9, 4, 5, 7, 8, 0, 1, 2, 10, 3, 6]\n",
      "\n",
      "\n"
     ]
    }
   ],
   "source": [
    "arr = np.arange(3, 12)\n",
    "\n",
    "alg_answers = []\n",
    "alg_times = []\n",
    "brute_force_answers = []\n",
    "brute_force_times = []\n",
    "\n",
    "for v in tqdm_notebook(arr):\n",
    "    g = generate_graph(v)\n",
    "\n",
    "    print('Кол-во вершин: {}'.format(v))\n",
    "    print(g)\n",
    "    begin = time.time()\n",
    "    tsp_solver = MetricTSP(v, g)\n",
    "    cycle = tsp_solver.ham_cycle()\n",
    "    cur = cycle[0]\n",
    "    ans = 0\n",
    "    for v in cycle[1:]:\n",
    "        ans += g[cur][v]\n",
    "        cur = v\n",
    "    end = time.time()\n",
    "    alg_answers.append(ans)\n",
    "    alg_times.append(end - begin)\n",
    "    \n",
    "    print()\n",
    "    \n",
    "    begin = time.time()\n",
    "    brute_force_answers.append(brute_force(g))\n",
    "    end = time.time()\n",
    "    brute_force_times.append(end - begin)\n",
    "    \n",
    "    \n",
    "brute_force_answers = np.array(brute_force_answers)\n",
    "brute_force_times = np.array(brute_force_times)\n",
    "alg_answers = np.array(alg_answers)\n",
    "alg_times = np.array(alg_times)"
   ]
  },
  {
   "cell_type": "code",
   "execution_count": 58,
   "metadata": {},
   "outputs": [
    {
     "data": {
      "image/png": "[encoded data removed]",
      "text/plain": [
       "<Figure size 576x432 with 1 Axes>"
      ]
     },
     "metadata": {
      "needs_background": "light"
     },
     "output_type": "display_data"
    }
   ],
   "source": [
    "plt.figure(figsize=(8, 6))\n",
    "\n",
    "plt.title('Отношение полученного ответа к правильному')\n",
    "plt.plot(arr, alg_answers / brute_force_answers,\n",
    "         label='alg_ans / brute_force_ans')\n",
    "plt.xlabel('Количество вершин в графе')\n",
    "plt.ylim(1., 1.5)\n",
    "plt.legend()\n",
    "plt.show()"
   ]
  },
  {
   "cell_type": "code",
   "execution_count": 59,
   "metadata": {},
   "outputs": [
    {
     "data": {
      "image/png": "[encoded data removed]",
      "text/plain": [
       "<Figure size 576x432 with 1 Axes>"
      ]
     },
     "metadata": {
      "needs_background": "light"
     },
     "output_type": "display_data"
    }
   ],
   "source": [
    "plt.figure(figsize=(8, 6))\n",
    "\n",
    "plt.title('Время работы')\n",
    "plt.plot(arr, alg_times, label='1.5-приближение')\n",
    "plt.plot(arr, brute_force_times, label='перебор')\n",
    "plt.xlabel('Количество вершин в графе')\n",
    "plt.legend()\n",
    "plt.show()"
   ]
  },
  {
   "cell_type": "markdown",
   "metadata": {},
   "source": [
    "### 4. Известные датасеты"
   ]
  },
  {
   "cell_type": "markdown",
   "metadata": {},
   "source": [
    "**26 вершин**"
   ]
  },
  {
   "cell_type": "code",
   "execution_count": 70,
   "metadata": {},
   "outputs": [
    {
     "data": {
      "text/plain": [
       "(26, 26)"
      ]
     },
     "execution_count": 70,
     "metadata": {},
     "output_type": "execute_result"
    }
   ],
   "source": [
    "true_ans = 937\n",
    "\n",
    "V = 26\n",
    "g = np.array([[0,83,93,129,133,139,151,169,135,114,110,98,99,95,81,152,159,181,172,185,147,157,185,220,127,181],\n",
    "[83,0,40,53,62,64,91,116,93,84,95,98,89,68,67,127,156,175,152,165,160,180,223,268,179,197],\n",
    "[93,40,0,42,42,49,59,81,54,44,58,64,54,31,36,86,117,135,112,125,124,147,193,241,157,161],\n",
    "[129,53,42,0,11,11,46,72,65,70,88,100,89,66,76,102,142,156,127,139,155,180,228,278,197,190],\n",
    "[133,62,42,11,0,9,35,61,55,62,82,95,84,62,74,93,133,146,117,128,148,173,222,272,194,182],\n",
    "[139,64,49,11,9,0,39,65,63,71,90,103,92,71,82,100,141,153,124,135,156,181,230,280,202,190],\n",
    "[151,91,59,46,35,39,0,26,34,52,71,88,77,63,78,66,110,119,88,98,130,156,206,257,188,160],\n",
    "[169,116,81,72,61,65,26,0,37,59,75,92,83,76,91,54,98,103,70,78,122,148,198,250,188,148],\n",
    "[135,93,54,65,55,63,34,37,0,22,39,56,47,40,55,37,78,91,62,74,96,122,172,223,155,128],\n",
    "[114,84,44,70,62,71,52,59,22,0,20,36,26,20,34,43,74,91,68,82,86,111,160,210,136,121],\n",
    "[110,95,58,88,82,90,71,75,39,20,0,18,11,27,32,42,61,80,64,77,68,92,140,190,116,103],\n",
    "[98,98,64,100,95,103,88,92,56,36,18,0,11,34,31,56,63,85,75,87,62,83,129,178,100,99],\n",
    "[99,89,54,89,84,92,77,83,47,26,11,11,0,23,24,53,68,89,74,87,71,93,140,189,111,107],\n",
    "[95,68,31,66,62,71,63,76,40,20,27,34,23,0,15,62,87,106,87,100,93,116,163,212,132,130],\n",
    "[81,67,36,76,74,82,78,91,55,34,32,31,24,15,0,73,92,112,96,109,93,113,158,205,122,130],\n",
    "[152,127,86,102,93,100,66,54,37,43,42,56,53,62,73,0,44,54,26,39,68,94,144,196,139,95],\n",
    "[159,156,117,142,133,141,110,98,78,74,61,63,68,87,92,44,0,22,34,38,30,53,102,154,109,51],\n",
    "[181,175,135,156,146,153,119,103,91,91,80,85,89,106,112,54,22,0,33,29,46,64,107,157,125,51],\n",
    "[172,152,112,127,117,124,88,70,62,68,64,75,74,87,96,26,34,33,0,13,63,87,135,186,141,81],\n",
    "[185,165,125,139,128,135,98,78,74,82,77,87,87,100,109,39,38,29,13,0,68,90,136,186,148,79],\n",
    "[147,160,124,155,148,156,130,122,96,86,68,62,71,93,93,68,30,46,63,68,0,26,77,128,80,37],\n",
    "[157,180,147,180,173,181,156,148,122,111,92,83,93,116,113,94,53,64,87,90,26,0,50,102,65,27],\n",
    "[185,223,193,228,222,230,206,198,172,160,140,129,140,163,158,144,102,107,135,136,77,50,0,51,64,58],\n",
    "[220,268,241,278,272,280,257,250,223,210,190,178,189,212,205,196,154,157,186,186,128,102,51,0,93,107],\n",
    "[127,179,157,197,194,202,188,188,155,136,116,100,111,132,122,139,109,125,141,148,80,65,64,93,0,90],\n",
    "[181,197,161,190,182,190,160,148,128,121,103,99,107,130,130,95,51,51,81,79,37,27,58,107,90,0]])\n",
    "    \n",
    "g.shape"
   ]
  },
  {
   "cell_type": "code",
   "execution_count": 71,
   "metadata": {},
   "outputs": [
    {
     "name": "stdout",
     "output_type": "stream",
     "text": [
      "mst:  [(0, 14), (14, 13), (13, 9), (9, 10), (10, 12), (12, 11), (9, 8), (13, 2), (8, 6), (6, 7), (6, 4), (4, 5), (4, 3), (8, 15), (15, 18), (18, 19), (19, 17), (17, 16), (16, 20), (20, 21), (21, 25), (2, 1), (21, 22), (22, 23), (22, 24)]\n",
      "min_perfect_matching:  [(1, 2), (7, 8), (5, 6), (0, 14), (12, 13), (9, 10), (11, 15), (3, 4)]\n",
      "eul_cycle:  [0, 24, 23, 22, 25, 21, 20, 16, 17, 19, 18, 2, 1, 2, 13, 9, 12, 10, 9, 8, 6, 4, 3, 4, 5, 6, 7, 8, 15, 11, 12, 13, 14, 0]\n",
      "ham_cycle:  [0, 24, 23, 22, 25, 21, 20, 16, 17, 19, 18, 2, 1, 13, 9, 12, 10, 8, 6, 4, 3, 5, 7, 15, 11, 14, 0]\n"
     ]
    }
   ],
   "source": [
    "tsp_solver = MetricTSP(V, g)\n",
    "cycle = tsp_solver.ham_cycle()\n",
    "cur = cycle[0]\n",
    "ans = 0\n",
    "for v in cycle[1:]:\n",
    "    ans += g[cur][v]\n",
    "    cur = v"
   ]
  },
  {
   "cell_type": "code",
   "execution_count": 73,
   "metadata": {},
   "outputs": [
    {
     "name": "stdout",
     "output_type": "stream",
     "text": [
      "Ответ, полученный алгоритмом: 1170\n",
      "Верный ответ: 937\n",
      "Частное: 1.248665955176094\n"
     ]
    }
   ],
   "source": [
    "print('Ответ, полученный алгоритмом: {}'.format(ans))\n",
    "print(\"Верный ответ: {}\".format(true_ans))\n",
    "print(\"Частное: {}\".format(ans / true_ans))"
   ]
  },
  {
   "cell_type": "markdown",
   "metadata": {},
   "source": [
    "**17 вершин**"
   ]
  },
  {
   "cell_type": "code",
   "execution_count": 76,
   "metadata": {},
   "outputs": [
    {
     "data": {
      "text/plain": [
       "(17, 17)"
      ]
     },
     "execution_count": 76,
     "metadata": {},
     "output_type": "execute_result"
    }
   ],
   "source": [
    "true_ans = 2085\n",
    "\n",
    "V = 17\n",
    "g = np.array(\n",
    "    [[0,633,257,91,412,150,80,134,259,505,353,324,70,211,268,246,121],\n",
    "[633,0,390,661,227,488,572,530,555,289,282,638,567,466,420,745,518],\n",
    "[257,390,0,228,169,112,196,154,372,262,110,437,191,74,53,472,142],\n",
    "[91,661,228,0,383,120,77,105,175,476,324,240,27,182,239,237,84],\n",
    "[412,227,169,383,0,267,351,309,338,196,61,421,346,243,199,528,297],\n",
    "[150,488,112,120,267,0,63,34,264,360,208,329,83,105,123,364,35],\n",
    "[80,572,196,77,351,63,0,29,232,444,292,297,47,150,207,332,29],\n",
    "[134,530,154,105,309,34,29,0,249,402,250,314,68,108,165,349,36],\n",
    "[259,555,372,175,338,264,232,249,0,495,352,95,189,326,383,202,236],\n",
    "[505,289,262,476,196,360,444,402,495,0,154,578,439,336,240,685,390],\n",
    "[353,282,110,324,61,208,292,250,352,154,0,435,287,184,140,542,238],\n",
    "[324,638,437,240,421,329,297,314,95,578,435,0,254,391,448,157,301],\n",
    "[70,567,191,27,346,83,47,68,189,439,287,254,0,145,202,289,55],\n",
    "[211,466,74,182,243,105,150,108,326,336,184,391,145,0,57,426,96],\n",
    "[268,420,53,239,199,123,207,165,383,240,140,448,202,57,0,483,153],\n",
    "[246,745,472,237,528,364,332,349,202,685,542,157,289,426,483,0,336],\n",
    "[121,518,142,84,297,35,29,36,236,390,238,301,55,96,153,336,0]])\n",
    "\n",
    "    \n",
    "g.shape"
   ]
  },
  {
   "cell_type": "code",
   "execution_count": 78,
   "metadata": {},
   "outputs": [
    {
     "name": "stdout",
     "output_type": "stream",
     "text": [
      "mst:  [(0, 12), (12, 3), (12, 6), (6, 7), (6, 16), (7, 5), (16, 13), (13, 14), (14, 2), (2, 10), (10, 4), (10, 9), (3, 8), (8, 11), (11, 15), (4, 1)]\n",
      "min_perfect_matching:  [(1, 4), (2, 5), (3, 6), (0, 7)]\n",
      "eul_cycle:  [9, 4, 1, 4, 10, 15, 11, 8, 7, 6, 0, 12, 3, 6, 16, 13, 14, 2, 5, 7, 0]\n",
      "ham_cycle:  [9, 4, 1, 10, 15, 11, 8, 7, 6, 0, 12, 3, 16, 13, 14, 2, 5, 9]\n",
      "\n",
      "Ответ, полученный алгоритмом: 2716\n",
      "Верный ответ: 2085\n",
      "Частное: 1.3026378896882493\n"
     ]
    }
   ],
   "source": [
    "tsp_solver = MetricTSP(V, g)\n",
    "cycle = tsp_solver.ham_cycle()\n",
    "cur = cycle[0]\n",
    "ans = 0\n",
    "for v in cycle[1:]:\n",
    "    ans += g[cur][v]\n",
    "    cur = v\n",
    "    \n",
    "print('\\nОтвет, полученный алгоритмом: {}'.format(ans))\n",
    "print(\"Верный ответ: {}\".format(true_ans))\n",
    "print(\"Частное: {}\".format(ans / true_ans))"
   ]
  },
  {
   "cell_type": "markdown",
   "metadata": {},
   "source": [
    "### 5. Вывод\n",
    "\n",
    "Алгоритм, действительно выдаёт ответ, не более чем в 1.5 раза отличающийся от правильного, при этом уже при 10 вершинах время его работы в несколько раз меньше времени работы перебора. "
   ]
  }
 ],
 "metadata": {
  "kernelspec": {
   "display_name": "Python 3",
   "language": "python",
   "name": "python3"
  },
  "language_info": {
   "codemirror_mode": {
    "name": "ipython",
    "version": 3
   },
   "file_extension": ".py",
   "mimetype": "text/x-python",
   "name": "python",
   "nbconvert_exporter": "python",
   "pygments_lexer": "ipython3",
   "version": "3.6.8"
  }
 },
 "nbformat": 4,
 "nbformat_minor": 2
}
